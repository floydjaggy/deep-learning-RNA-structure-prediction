{
 "cells": [
  {
   "cell_type": "code",
   "execution_count": null,
   "metadata": {
    "executionInfo": {
     "elapsed": 3,
     "status": "aborted",
     "timestamp": 1651655062062,
     "user": {
      "displayName": "Samuel Flores",
      "userId": "13640734428926631006"
     },
     "user_tz": -120
    },
    "id": "UpOYV5ISbbIC"
   },
   "outputs": [],
   "source": [
    "# Also, to assist manual annotation of same.\n",
    "# followed: https://github.com/nglviewer/nglview#usage\n",
    "# pip3 install nglview\n",
    "#\n",
    "!pip install py3Dmol\n",
    "import py3Dmol"
   ]
  },
  {
   "cell_type": "code",
   "execution_count": 3,
   "metadata": {
    "colab": {
     "base_uri": "https://localhost:8080/",
     "height": 236
    },
    "executionInfo": {
     "elapsed": 245,
     "status": "error",
     "timestamp": 1651655227841,
     "user": {
      "displayName": "Samuel Flores",
      "userId": "13640734428926631006"
     },
     "user_tz": -120
    },
    "id": "MC4OKa7VRbBG",
    "outputId": "00ad0be2-5d30-47bd-bf38-b77d2df7de3a"
   },
   "outputs": [
    {
     "ename": "NameError",
     "evalue": "ignored",
     "output_type": "error",
     "traceback": [
      "\u001b[0;31m---------------------------------------------------------------------------\u001b[0m",
      "\u001b[0;31mNameError\u001b[0m                                 Traceback (most recent call last)",
      "\u001b[0;32m<ipython-input-3-6dba91abd53a>\u001b[0m in \u001b[0;36m<module>\u001b[0;34m()\u001b[0m\n\u001b[1;32m      3\u001b[0m \u001b[0;31m#with open(\"1gid.pdb\") as ifile:\u001b[0m\u001b[0;34m\u001b[0m\u001b[0;34m\u001b[0m\u001b[0;34m\u001b[0m\u001b[0m\n\u001b[1;32m      4\u001b[0m \u001b[0;31m#    system = \"\".join([x for x in ifile])\u001b[0m\u001b[0;34m\u001b[0m\u001b[0;34m\u001b[0m\u001b[0;34m\u001b[0m\u001b[0m\n\u001b[0;32m----> 5\u001b[0;31m \u001b[0mview\u001b[0m \u001b[0;34m=\u001b[0m \u001b[0mpy3Dmol\u001b[0m\u001b[0;34m.\u001b[0m\u001b[0mview\u001b[0m\u001b[0;34m(\u001b[0m\u001b[0mquery\u001b[0m\u001b[0;34m=\u001b[0m\u001b[0;34m\"pdb:1GID\"\u001b[0m\u001b[0;34m,\u001b[0m\u001b[0mwidth\u001b[0m\u001b[0;34m=\u001b[0m\u001b[0;36m400\u001b[0m\u001b[0;34m,\u001b[0m \u001b[0mheight\u001b[0m\u001b[0;34m=\u001b[0m\u001b[0;36m300\u001b[0m\u001b[0;34m)\u001b[0m\u001b[0;34m\u001b[0m\u001b[0;34m\u001b[0m\u001b[0m\n\u001b[0m\u001b[1;32m      6\u001b[0m \u001b[0;31m#view.addModelsAsFrames(system)\u001b[0m\u001b[0;34m\u001b[0m\u001b[0;34m\u001b[0m\u001b[0;34m\u001b[0m\u001b[0m\n\u001b[1;32m      7\u001b[0m \u001b[0mview\u001b[0m\u001b[0;34m.\u001b[0m\u001b[0msetStyle\u001b[0m\u001b[0;34m(\u001b[0m\u001b[0;34m{\u001b[0m\u001b[0;34m'model'\u001b[0m\u001b[0;34m:\u001b[0m \u001b[0;34m-\u001b[0m\u001b[0;36m1\u001b[0m\u001b[0;34m}\u001b[0m\u001b[0;34m,\u001b[0m \u001b[0;34m{\u001b[0m\u001b[0;34m\"cartoon\"\u001b[0m\u001b[0;34m:\u001b[0m \u001b[0;34m{\u001b[0m\u001b[0;34m'color'\u001b[0m\u001b[0;34m:\u001b[0m \u001b[0;34m'spectrum'\u001b[0m\u001b[0;34m}\u001b[0m\u001b[0;34m}\u001b[0m\u001b[0;34m)\u001b[0m\u001b[0;34m\u001b[0m\u001b[0;34m\u001b[0m\u001b[0m\n",
      "\u001b[0;31mNameError\u001b[0m: name 'py3Dmol' is not defined"
     ]
    }
   ],
   "source": [
    "# The objective is to display annotated LeontisWesthof base pairs (e.g. from RNAView and Cerny et al.'s program) and NtCs\n",
    "\n",
    "#with open(\"1gid.pdb\") as ifile:\n",
    "#    system = \"\".join([x for x in ifile])\n",
    "view = py3Dmol.view(query=\"pdb:1GID\",width=400, height=300)\n",
    "#view.addModelsAsFrames(system)\n",
    "view.setStyle({'model': -1}, {\"cartoon\": {'color': 'spectrum'}})\n",
    "view.zoomTo()\n",
    "view.addSurface('VDW',{'opacity':0.5, 'colorscheme':{'gradient':'rwb'}})\n",
    "\n",
    "\n",
    "#view.addArrow();\n",
    "#view.height= 400px;\n",
    "view.show()\n",
    "\n",
    "\n",
    "print (\"hello\")\n",
    "#view._display_image()\n",
    "\n"
   ]
  },
  {
   "cell_type": "code",
   "execution_count": 5,
   "metadata": {
    "colab": {
     "base_uri": "https://localhost:8080/"
    },
    "executionInfo": {
     "elapsed": 72795,
     "status": "ok",
     "timestamp": 1651655139400,
     "user": {
      "displayName": "Samuel Flores",
      "userId": "13640734428926631006"
     },
     "user_tz": -120
    },
    "id": "L3J-ZAC7b2_q",
    "outputId": "9f94ac5e-69b3-47f0-e2d4-c1c88efd67d6"
   },
   "outputs": [
    {
     "name": "stdout",
     "output_type": "stream",
     "text": [
      "\u001b[33mDEPRECATION: Configuring installation scheme with distutils config files is deprecated and will no longer work in the near future. If you are using a Homebrew or Linuxbrew Python, please see discussion at https://github.com/Homebrew/homebrew-core/issues/76621\u001b[0m\u001b[33m\n",
      "\u001b[0m\u001b[33mDEPRECATION: Configuring installation scheme with distutils config files is deprecated and will no longer work in the near future. If you are using a Homebrew or Linuxbrew Python, please see discussion at https://github.com/Homebrew/homebrew-core/issues/76621\u001b[0m\u001b[33m\n",
      "\u001b[0m"
     ]
    },
    {
     "ename": "RuntimeError",
     "evalue": "This module must ONLY run as part of a Colab notebook!",
     "output_type": "error",
     "traceback": [
      "\u001b[0;31m---------------------------------------------------------------------------\u001b[0m",
      "\u001b[0;31mModuleNotFoundError\u001b[0m                       Traceback (most recent call last)",
      "File \u001b[0;32m/opt/homebrew/lib/python3.9/site-packages/condacolab.py:26\u001b[0m, in \u001b[0;36m<module>\u001b[0;34m\u001b[0m\n\u001b[1;32m     25\u001b[0m \u001b[38;5;28;01mtry\u001b[39;00m:\n\u001b[0;32m---> 26\u001b[0m     \u001b[38;5;28;01mimport\u001b[39;00m \u001b[38;5;21;01mgoogle\u001b[39;00m\u001b[38;5;21;01m.\u001b[39;00m\u001b[38;5;21;01mcolab\u001b[39;00m\n\u001b[1;32m     27\u001b[0m \u001b[38;5;28;01mexcept\u001b[39;00m \u001b[38;5;167;01mImportError\u001b[39;00m:\n",
      "\u001b[0;31mModuleNotFoundError\u001b[0m: No module named 'google'",
      "\nDuring handling of the above exception, another exception occurred:\n",
      "\u001b[0;31mRuntimeError\u001b[0m                              Traceback (most recent call last)",
      "Input \u001b[0;32mIn [5]\u001b[0m, in \u001b[0;36m<cell line: 4>\u001b[0;34m()\u001b[0m\n\u001b[1;32m      1\u001b[0m \u001b[38;5;66;03m#!pip install nglview\u001b[39;00m\n\u001b[1;32m      2\u001b[0m \u001b[38;5;66;03m#!jupyter-nbextension enable nglview --py --sys-prefix\u001b[39;00m\n\u001b[1;32m      3\u001b[0m get_ipython()\u001b[38;5;241m.\u001b[39msystem(\u001b[38;5;124m'\u001b[39m\u001b[38;5;124mpip3 install -q condacolab\u001b[39m\u001b[38;5;124m'\u001b[39m)\n\u001b[0;32m----> 4\u001b[0m \u001b[38;5;28;01mimport\u001b[39;00m \u001b[38;5;21;01mcondacolab\u001b[39;00m\n\u001b[1;32m      5\u001b[0m \u001b[38;5;66;03m#import google.colab\u001b[39;00m\n\u001b[1;32m      6\u001b[0m condacolab\u001b[38;5;241m.\u001b[39minstall()\n",
      "File \u001b[0;32m/opt/homebrew/lib/python3.9/site-packages/condacolab.py:28\u001b[0m, in \u001b[0;36m<module>\u001b[0;34m\u001b[0m\n\u001b[1;32m     26\u001b[0m     \u001b[38;5;28;01mimport\u001b[39;00m \u001b[38;5;21;01mgoogle\u001b[39;00m\u001b[38;5;21;01m.\u001b[39;00m\u001b[38;5;21;01mcolab\u001b[39;00m\n\u001b[1;32m     27\u001b[0m \u001b[38;5;28;01mexcept\u001b[39;00m \u001b[38;5;167;01mImportError\u001b[39;00m:\n\u001b[0;32m---> 28\u001b[0m     \u001b[38;5;28;01mraise\u001b[39;00m \u001b[38;5;167;01mRuntimeError\u001b[39;00m(\u001b[38;5;124m\"\u001b[39m\u001b[38;5;124mThis module must ONLY run as part of a Colab notebook!\u001b[39m\u001b[38;5;124m\"\u001b[39m)\n\u001b[1;32m     31\u001b[0m __version__ \u001b[38;5;241m=\u001b[39m \u001b[38;5;124m\"\u001b[39m\u001b[38;5;124m0.1.3\u001b[39m\u001b[38;5;124m\"\u001b[39m\n\u001b[1;32m     32\u001b[0m __author__ \u001b[38;5;241m=\u001b[39m \u001b[38;5;124m\"\u001b[39m\u001b[38;5;124mJaime Rodríguez-Guerra <jaimergp@users.noreply.github.com>\u001b[39m\u001b[38;5;124m\"\u001b[39m\n",
      "\u001b[0;31mRuntimeError\u001b[0m: This module must ONLY run as part of a Colab notebook!"
     ]
    }
   ],
   "source": [
    "#!pip install nglview\n",
    "#!jupyter-nbextension enable nglview --py --sys-prefix\n",
    "!pip3 install -q condacolab\n",
    "import condacolab\n",
    "#import google.colab\n",
    "condacolab.install()\n",
    "!conda --version\n",
    "!conda config --add channels conda-forge\n",
    "!conda install nglview -c bioconda\n",
    "!jupyter-nbextension enable nglview --py --sys-prefix\n"
   ]
  },
  {
   "cell_type": "code",
   "execution_count": 4,
   "metadata": {
    "executionInfo": {
     "elapsed": 1080,
     "status": "ok",
     "timestamp": 1651655245166,
     "user": {
      "displayName": "Samuel Flores",
      "userId": "13640734428926631006"
     },
     "user_tz": -120
    },
    "id": "8qcTUjrkcJgq"
   },
   "outputs": [],
   "source": [
    "from google.colab import output\n",
    "output.enable_custom_widget_manager()\n",
    "!pip install -q ase\n",
    "from ase.build import molecule\n",
    "\n",
    "c60 = molecule(\"C60\")\n",
    "c60.set_cell([[20, 0, 0],[0, 20, 0],[0, 0, 20]])\n",
    "c60.center()\n",
    "c60.pbc=True\n",
    "\n",
    "import nglview\n",
    "\n",
    "#view = nglview.show_pdbid(\"3LPO\")  # load \"3pqr\" from RCSB PDB and display viewer widget\n",
    "#view\n",
    "#print (\"hello1\")\n",
    "\n",
    "#view.add_ball_and_stick()\n",
    "#view\n",
    "#3print (\"hello\")\n",
    "#view._display_image()"
   ]
  },
  {
   "cell_type": "code",
   "execution_count": 10,
   "metadata": {
    "colab": {
     "base_uri": "https://localhost:8080/",
     "height": 317,
     "referenced_widgets": [
      "65286e94899441499eae33b2aaff3013",
      "405667c69eba434e924d4849826052aa"
     ]
    },
    "executionInfo": {
     "elapsed": 359,
     "status": "ok",
     "timestamp": 1651655569948,
     "user": {
      "displayName": "Samuel Flores",
      "userId": "13640734428926631006"
     },
     "user_tz": -120
    },
    "id": "kMyKWa_ewoOT",
    "outputId": "9f96d1a3-3276-4f4e-fc95-625076027417"
   },
   "outputs": [
    {
     "data": {
      "application/vnd.jupyter.widget-view+json": {
       "model_id": "65286e94899441499eae33b2aaff3013",
       "version_major": 2,
       "version_minor": 0
      },
      "text/plain": [
       "NGLWidget()"
      ]
     },
     "metadata": {
      "application/vnd.jupyter.widget-view+json": {
       "colab": {
        "custom_widget_manager": {
         "url": "https://ssl.gstatic.com/colaboratory-static/widgets/colab-cdn-widget-manager/a8874ba6619b6106/manager.min.js"
        }
       }
      }
     },
     "output_type": "display_data"
    }
   ],
   "source": [
    "\n",
    "\n",
    "#view = nglview.show_ase(c60)\n",
    "#view.add_unitcell()\n",
    "#view.add_representation('spacefill', selection='#C', color='blue', radius='1.2')\n",
    "view = nglview.NGLWidget()\n",
    "view.add_pdbid('1gid')\n",
    "#view.add_representation('licorice', selection='(1-300) ', color='blue', radius='1.2')\n",
    "\n",
    "view.add_representation('licorice', selection='(253 OR 220) and #P', color='type', radius='1.2')\n",
    "atomPair = [ [ \"253.P\", \"220.P\" ], [ \"220.P\", \"253.P\" ] ];\n",
    "#atomPair = [  [ \"220.P\", \"253.P\" ] ];\n",
    "\n",
    "#view.add_representation( \"distance\", { atomPair: atomPair } );\n",
    "#view.add_representation('spacefill', selection='220', color='blue', radius='1.2')\n",
    "#view.get_coordinates() # takes an index\n",
    "view.shape.add_cylinder( [ 0, 2, 7 ], [ 0, 0, 39 ], [ 1, 1, 0 ], 0.5)\n",
    "view"
   ]
  },
  {
   "cell_type": "code",
   "execution_count": null,
   "metadata": {
    "id": "z_RAgIfc0E_Y"
   },
   "outputs": [],
   "source": []
  },
  {
   "cell_type": "code",
   "execution_count": null,
   "metadata": {
    "id": "pSppyXaM0E_Y"
   },
   "outputs": [],
   "source": []
  },
  {
   "cell_type": "code",
   "execution_count": null,
   "metadata": {
    "id": "sSRPB_HW0E_Y"
   },
   "outputs": [],
   "source": []
  }
 ],
 "metadata": {
  "colab": {
   "collapsed_sections": [],
   "name": "annotate-base-pairs-and-NtCs.ipynb",
   "provenance": []
  },
  "kernelspec": {
   "display_name": "Python 3 (ipykernel)",
   "language": "python",
   "name": "python3"
  },
  "language_info": {
   "codemirror_mode": {
    "name": "ipython",
    "version": 3
   },
   "file_extension": ".py",
   "mimetype": "text/x-python",
   "name": "python",
   "nbconvert_exporter": "python",
   "pygments_lexer": "ipython3",
   "version": "3.9.12"
  },
  "widgets": {
   "application/vnd.jupyter.widget-state+json": {
    "405667c69eba434e924d4849826052aa": {
     "model_module": "@jupyter-widgets/base",
     "model_module_version": "1.2.0",
     "model_name": "LayoutModel",
     "state": {
      "_model_module": "@jupyter-widgets/base",
      "_model_module_version": "1.2.0",
      "_model_name": "LayoutModel",
      "_view_count": null,
      "_view_module": "@jupyter-widgets/base",
      "_view_module_version": "1.2.0",
      "_view_name": "LayoutView",
      "align_content": null,
      "align_items": null,
      "align_self": null,
      "border": null,
      "bottom": null,
      "display": null,
      "flex": null,
      "flex_flow": null,
      "grid_area": null,
      "grid_auto_columns": null,
      "grid_auto_flow": null,
      "grid_auto_rows": null,
      "grid_column": null,
      "grid_gap": null,
      "grid_row": null,
      "grid_template_areas": null,
      "grid_template_columns": null,
      "grid_template_rows": null,
      "height": null,
      "justify_content": null,
      "justify_items": null,
      "left": null,
      "margin": null,
      "max_height": null,
      "max_width": null,
      "min_height": null,
      "min_width": null,
      "object_fit": null,
      "object_position": null,
      "order": null,
      "overflow": null,
      "overflow_x": null,
      "overflow_y": null,
      "padding": null,
      "right": null,
      "top": null,
      "visibility": null,
      "width": null
     }
    },
    "65286e94899441499eae33b2aaff3013": {
     "model_module": "nglview-js-widgets",
     "model_module_version": "1.1.7",
     "model_name": "NGLModel",
     "state": {
      "_camera_orientation": [
       145.43944640255472,
       0,
       0,
       0,
       0,
       145.43944640255472,
       0,
       0,
       0,
       0,
       145.43944640255472,
       0,
       -48.150410652160645,
       -60.2020320892334,
       -89.66287422180176,
       1
      ],
      "_camera_str": "orthographic",
      "_dom_classes": [],
      "_image_data": "",
      "_model_module": "nglview-js-widgets",
      "_model_module_version": "1.1.7",
      "_model_name": "NGLModel",
      "_n_dragged_files": 0,
      "_ngl_coordinate_resource": {},
      "_ngl_full_stage_parameters": {
       "ambientColor": 14540253,
       "ambientIntensity": 0.2,
       "backgroundColor": "white",
       "cameraEyeSep": 0.3,
       "cameraFov": 40,
       "cameraType": "perspective",
       "clipDist": 10,
       "clipFar": 100,
       "clipNear": 0,
       "fogFar": 100,
       "fogNear": 50,
       "hoverTimeout": 0,
       "impostor": true,
       "lightColor": 14540253,
       "lightIntensity": 1,
       "mousePreset": "default",
       "panSpeed": 1,
       "quality": "medium",
       "rotateSpeed": 2,
       "sampleLevel": 0,
       "tooltip": true,
       "workerDefault": true,
       "zoomSpeed": 1.2
      },
      "_ngl_full_stage_parameters_embed": {},
      "_ngl_msg_archive": [],
      "_ngl_original_stage_parameters": {
       "ambientColor": 14540253,
       "ambientIntensity": 0.2,
       "backgroundColor": "white",
       "cameraEyeSep": 0.3,
       "cameraFov": 40,
       "cameraType": "perspective",
       "clipDist": 10,
       "clipFar": 100,
       "clipNear": 0,
       "fogFar": 100,
       "fogNear": 50,
       "hoverTimeout": 0,
       "impostor": true,
       "lightColor": 14540253,
       "lightIntensity": 1,
       "mousePreset": "default",
       "panSpeed": 1,
       "quality": "medium",
       "rotateSpeed": 2,
       "sampleLevel": 0,
       "tooltip": true,
       "workerDefault": true,
       "zoomSpeed": 1.2
      },
      "_ngl_repr_dict": {
       "0": {
        "0": {
         "params": {
          "aspectRatio": 5,
          "assembly": "default",
          "capped": true,
          "clipCenter": {
           "x": 0,
           "y": 0,
           "z": 0
          },
          "clipNear": 0,
          "clipRadius": 0,
          "colorMode": "hcl",
          "colorReverse": false,
          "colorScale": "RdYlBu",
          "colorScheme": "chainname",
          "colorValue": 9474192,
          "defaultAssembly": "BU1",
          "depthWrite": true,
          "diffuse": 16777215,
          "diffuseInterior": false,
          "disablePicking": false,
          "flatShaded": false,
          "interiorColor": 2236962,
          "interiorDarkening": 0,
          "lazy": false,
          "matrix": {
           "elements": [
            1,
            0,
            0,
            0,
            0,
            1,
            0,
            0,
            0,
            0,
            1,
            0,
            0,
            0,
            0,
            1
           ]
          },
          "metalness": 0,
          "opacity": 1,
          "quality": "high",
          "radialSegments": 20,
          "radiusData": {},
          "radiusScale": 0.7,
          "radiusSize": 1,
          "radiusType": "sstruc",
          "roughness": 0.4,
          "sele": "",
          "side": "double",
          "smoothSheet": false,
          "subdiv": 6,
          "tension": null,
          "useInteriorColor": true,
          "visible": true,
          "wireframe": false
         },
         "type": "cartoon"
        },
        "1": {
         "params": {
          "aspectRatio": 1,
          "assembly": "default",
          "bondScale": 0.4,
          "clipCenter": {
           "x": 0,
           "y": 0,
           "z": 0
          },
          "clipNear": 0,
          "clipRadius": 0,
          "colorMode": "hcl",
          "colorReverse": false,
          "colorScale": "RdYlBu",
          "colorScheme": "chainname",
          "colorValue": 9474192,
          "cylinderOnly": false,
          "defaultAssembly": "BU1",
          "depthWrite": true,
          "diffuse": 16777215,
          "diffuseInterior": false,
          "disableImpostor": false,
          "disablePicking": false,
          "flatShaded": false,
          "interiorColor": 2236962,
          "interiorDarkening": 0,
          "lazy": false,
          "lineOnly": false,
          "linewidth": 2,
          "matrix": {
           "elements": [
            1,
            0,
            0,
            0,
            0,
            1,
            0,
            0,
            0,
            0,
            1,
            0,
            0,
            0,
            0,
            1
           ]
          },
          "metalness": 0,
          "opacity": 1,
          "openEnded": true,
          "quality": "high",
          "radialSegments": 20,
          "radiusData": {},
          "radiusScale": 1,
          "radiusSize": 0.3,
          "radiusType": "size",
          "roughness": 0.4,
          "sele": "",
          "side": "double",
          "sphereDetail": 2,
          "useInteriorColor": true,
          "visible": true,
          "wireframe": false
         },
         "type": "base"
        },
        "2": {
         "params": {
          "aspectRatio": 1.5,
          "assembly": "default",
          "bondScale": 0.3,
          "bondSpacing": 0.75,
          "clipCenter": {
           "x": 0,
           "y": 0,
           "z": 0
          },
          "clipNear": 0,
          "clipRadius": 0,
          "colorMode": "hcl",
          "colorReverse": false,
          "colorScale": "",
          "colorScheme": "element",
          "colorValue": 9474192,
          "cylinderOnly": false,
          "defaultAssembly": "BU1",
          "depthWrite": true,
          "diffuse": 16777215,
          "diffuseInterior": false,
          "disableImpostor": false,
          "disablePicking": false,
          "flatShaded": false,
          "interiorColor": 2236962,
          "interiorDarkening": 0,
          "lazy": false,
          "lineOnly": false,
          "linewidth": 2,
          "matrix": {
           "elements": [
            1,
            0,
            0,
            0,
            0,
            1,
            0,
            0,
            0,
            0,
            1,
            0,
            0,
            0,
            0,
            1
           ]
          },
          "metalness": 0,
          "multipleBond": "off",
          "opacity": 1,
          "openEnded": true,
          "quality": "high",
          "radialSegments": 20,
          "radiusData": {},
          "radiusScale": 2,
          "radiusSize": 0.15,
          "radiusType": "size",
          "roughness": 0.4,
          "sele": "ligand",
          "side": "double",
          "sphereDetail": 2,
          "useInteriorColor": true,
          "visible": true,
          "wireframe": false
         },
         "type": "ball+stick"
        },
        "3": {
         "params": {
          "assembly": "default",
          "bondScale": 0.4,
          "bondSpacing": 1,
          "clipCenter": {
           "x": 0,
           "y": 0,
           "z": 0
          },
          "clipNear": 0,
          "clipRadius": 0,
          "colorMode": "hcl",
          "colorReverse": false,
          "colorScale": "",
          "colorScheme": "uniform",
          "colorValue": 255,
          "cylinderOnly": false,
          "defaultAssembly": "BU1",
          "depthWrite": true,
          "diffuse": 16777215,
          "diffuseInterior": false,
          "disableImpostor": false,
          "disablePicking": false,
          "flatShaded": false,
          "interiorColor": 2236962,
          "interiorDarkening": 0,
          "lazy": false,
          "lineOnly": false,
          "linewidth": 2,
          "matrix": {
           "elements": [
            1,
            0,
            0,
            0,
            0,
            1,
            0,
            0,
            0,
            0,
            1,
            0,
            0,
            0,
            0,
            1
           ]
          },
          "metalness": 0,
          "multipleBond": "off",
          "opacity": 1,
          "openEnded": true,
          "quality": "medium",
          "radialSegments": 10,
          "radiusData": {},
          "radiusScale": 1,
          "radiusSize": "1.2",
          "radiusType": "size",
          "roughness": 0.4,
          "sele": "(1-300)",
          "side": "double",
          "sphereDetail": 1,
          "useInteriorColor": true,
          "visible": true,
          "wireframe": false
         },
         "type": "licorice"
        },
        "4": {
         "params": {
          "assembly": "default",
          "bondScale": 0.4,
          "bondSpacing": 1,
          "clipCenter": {
           "x": 0,
           "y": 0,
           "z": 0
          },
          "clipNear": 0,
          "clipRadius": 0,
          "colorMode": "hcl",
          "colorReverse": false,
          "colorScale": "",
          "colorScheme": "uniform",
          "colorValue": 255,
          "cylinderOnly": false,
          "defaultAssembly": "BU1",
          "depthWrite": true,
          "diffuse": 16777215,
          "diffuseInterior": false,
          "disableImpostor": false,
          "disablePicking": false,
          "flatShaded": false,
          "interiorColor": 2236962,
          "interiorDarkening": 0,
          "lazy": false,
          "lineOnly": false,
          "linewidth": 2,
          "matrix": {
           "elements": [
            1,
            0,
            0,
            0,
            0,
            1,
            0,
            0,
            0,
            0,
            1,
            0,
            0,
            0,
            0,
            1
           ]
          },
          "metalness": 0,
          "multipleBond": "off",
          "opacity": 1,
          "openEnded": true,
          "quality": "medium",
          "radialSegments": 10,
          "radiusData": {},
          "radiusScale": 1,
          "radiusSize": "1.2",
          "radiusType": "size",
          "roughness": 0.4,
          "sele": "(1-300)",
          "side": "double",
          "sphereDetail": 1,
          "useInteriorColor": true,
          "visible": true,
          "wireframe": false
         },
         "type": "licorice"
        },
        "5": {
         "params": {
          "assembly": "default",
          "bondScale": 0.4,
          "bondSpacing": 1,
          "clipCenter": {
           "x": 0,
           "y": 0,
           "z": 0
          },
          "clipNear": 0,
          "clipRadius": 0,
          "colorMode": "hcl",
          "colorReverse": false,
          "colorScale": "",
          "colorScheme": "uniform",
          "colorValue": 16777215,
          "cylinderOnly": false,
          "defaultAssembly": "BU1",
          "depthWrite": true,
          "diffuse": 16777215,
          "diffuseInterior": false,
          "disableImpostor": false,
          "disablePicking": false,
          "flatShaded": false,
          "interiorColor": 2236962,
          "interiorDarkening": 0,
          "lazy": false,
          "lineOnly": false,
          "linewidth": 2,
          "matrix": {
           "elements": [
            1,
            0,
            0,
            0,
            0,
            1,
            0,
            0,
            0,
            0,
            1,
            0,
            0,
            0,
            0,
            1
           ]
          },
          "metalness": 0,
          "multipleBond": "off",
          "opacity": 1,
          "openEnded": true,
          "quality": "medium",
          "radialSegments": 10,
          "radiusData": {},
          "radiusScale": 1,
          "radiusSize": "1.2",
          "radiusType": "size",
          "roughness": 0.4,
          "sele": "(253 OR 220) and #P",
          "side": "double",
          "sphereDetail": 1,
          "useInteriorColor": true,
          "visible": true,
          "wireframe": false
         },
         "type": "licorice"
        },
        "6": {
         "params": {
          "assembly": "default",
          "bondScale": 0.4,
          "bondSpacing": 1,
          "clipCenter": {
           "x": 0,
           "y": 0,
           "z": 0
          },
          "clipNear": 0,
          "clipRadius": 0,
          "colorMode": "hcl",
          "colorReverse": false,
          "colorScale": "",
          "colorScheme": "uniform",
          "colorValue": 16777215,
          "cylinderOnly": false,
          "defaultAssembly": "BU1",
          "depthWrite": true,
          "diffuse": 16777215,
          "diffuseInterior": false,
          "disableImpostor": false,
          "disablePicking": false,
          "flatShaded": false,
          "interiorColor": 2236962,
          "interiorDarkening": 0,
          "lazy": false,
          "lineOnly": false,
          "linewidth": 2,
          "matrix": {
           "elements": [
            1,
            0,
            0,
            0,
            0,
            1,
            0,
            0,
            0,
            0,
            1,
            0,
            0,
            0,
            0,
            1
           ]
          },
          "metalness": 0,
          "multipleBond": "off",
          "opacity": 1,
          "openEnded": true,
          "quality": "medium",
          "radialSegments": 10,
          "radiusData": {},
          "radiusScale": 1,
          "radiusSize": "1.2",
          "radiusType": "size",
          "roughness": 0.4,
          "sele": "(253 OR 220) and #P",
          "side": "double",
          "sphereDetail": 1,
          "useInteriorColor": true,
          "visible": true,
          "wireframe": false
         },
         "type": "licorice"
        }
       },
       "1": {
        "0": {
         "params": {
          "aspectRatio": 5,
          "assembly": "default",
          "capped": true,
          "clipCenter": {
           "x": 0,
           "y": 0,
           "z": 0
          },
          "clipNear": 0,
          "clipRadius": 0,
          "colorMode": "hcl",
          "colorReverse": false,
          "colorScale": "RdYlBu",
          "colorScheme": "chainname",
          "colorValue": 9474192,
          "defaultAssembly": "BU1",
          "depthWrite": true,
          "diffuse": 16777215,
          "diffuseInterior": false,
          "disablePicking": false,
          "flatShaded": false,
          "interiorColor": 2236962,
          "interiorDarkening": 0,
          "lazy": false,
          "matrix": {
           "elements": [
            1,
            0,
            0,
            0,
            0,
            1,
            0,
            0,
            0,
            0,
            1,
            0,
            0,
            0,
            0,
            1
           ]
          },
          "metalness": 0,
          "opacity": 1,
          "quality": "high",
          "radialSegments": 20,
          "radiusData": {},
          "radiusScale": 0.7,
          "radiusSize": 1,
          "radiusType": "sstruc",
          "roughness": 0.4,
          "sele": "",
          "side": "double",
          "smoothSheet": false,
          "subdiv": 6,
          "tension": null,
          "useInteriorColor": true,
          "visible": true,
          "wireframe": false
         },
         "type": "cartoon"
        },
        "1": {
         "params": {
          "aspectRatio": 1,
          "assembly": "default",
          "bondScale": 0.4,
          "clipCenter": {
           "x": 0,
           "y": 0,
           "z": 0
          },
          "clipNear": 0,
          "clipRadius": 0,
          "colorMode": "hcl",
          "colorReverse": false,
          "colorScale": "RdYlBu",
          "colorScheme": "chainname",
          "colorValue": 9474192,
          "cylinderOnly": false,
          "defaultAssembly": "BU1",
          "depthWrite": true,
          "diffuse": 16777215,
          "diffuseInterior": false,
          "disableImpostor": false,
          "disablePicking": false,
          "flatShaded": false,
          "interiorColor": 2236962,
          "interiorDarkening": 0,
          "lazy": false,
          "lineOnly": false,
          "linewidth": 2,
          "matrix": {
           "elements": [
            1,
            0,
            0,
            0,
            0,
            1,
            0,
            0,
            0,
            0,
            1,
            0,
            0,
            0,
            0,
            1
           ]
          },
          "metalness": 0,
          "opacity": 1,
          "openEnded": true,
          "quality": "high",
          "radialSegments": 20,
          "radiusData": {},
          "radiusScale": 1,
          "radiusSize": 0.3,
          "radiusType": "size",
          "roughness": 0.4,
          "sele": "",
          "side": "double",
          "sphereDetail": 2,
          "useInteriorColor": true,
          "visible": true,
          "wireframe": false
         },
         "type": "base"
        },
        "2": {
         "params": {
          "aspectRatio": 1.5,
          "assembly": "default",
          "bondScale": 0.3,
          "bondSpacing": 0.75,
          "clipCenter": {
           "x": 0,
           "y": 0,
           "z": 0
          },
          "clipNear": 0,
          "clipRadius": 0,
          "colorMode": "hcl",
          "colorReverse": false,
          "colorScale": "",
          "colorScheme": "element",
          "colorValue": 9474192,
          "cylinderOnly": false,
          "defaultAssembly": "BU1",
          "depthWrite": true,
          "diffuse": 16777215,
          "diffuseInterior": false,
          "disableImpostor": false,
          "disablePicking": false,
          "flatShaded": false,
          "interiorColor": 2236962,
          "interiorDarkening": 0,
          "lazy": false,
          "lineOnly": false,
          "linewidth": 2,
          "matrix": {
           "elements": [
            1,
            0,
            0,
            0,
            0,
            1,
            0,
            0,
            0,
            0,
            1,
            0,
            0,
            0,
            0,
            1
           ]
          },
          "metalness": 0,
          "multipleBond": "off",
          "opacity": 1,
          "openEnded": true,
          "quality": "high",
          "radialSegments": 20,
          "radiusData": {},
          "radiusScale": 2,
          "radiusSize": 0.15,
          "radiusType": "size",
          "roughness": 0.4,
          "sele": "ligand",
          "side": "double",
          "sphereDetail": 2,
          "useInteriorColor": true,
          "visible": true,
          "wireframe": false
         },
         "type": "ball+stick"
        }
       },
       "2": {
        "0": {
         "params": {
          "clipCenter": {
           "x": 0,
           "y": 0,
           "z": 0
          },
          "clipNear": 0,
          "clipRadius": 0,
          "colorReverse": false,
          "depthWrite": true,
          "diffuse": 16777215,
          "diffuseInterior": false,
          "disablePicking": false,
          "flatShaded": false,
          "interiorColor": 2236962,
          "interiorDarkening": 0,
          "lazy": false,
          "matrix": {
           "elements": [
            1,
            0,
            0,
            0,
            0,
            1,
            0,
            0,
            0,
            0,
            1,
            0,
            0,
            0,
            0,
            1
           ]
          },
          "metalness": 0,
          "opacity": 1,
          "quality": "medium",
          "roughness": 0.4,
          "side": "double",
          "useInteriorColor": false,
          "visible": true,
          "wireframe": false
         },
         "type": "buffer"
        }
       },
       "3": {
        "0": {
         "params": {
          "clipCenter": {
           "x": 0,
           "y": 0,
           "z": 0
          },
          "clipNear": 0,
          "clipRadius": 0,
          "colorReverse": false,
          "depthWrite": true,
          "diffuse": 16777215,
          "diffuseInterior": false,
          "disablePicking": false,
          "flatShaded": false,
          "interiorColor": 2236962,
          "interiorDarkening": 0,
          "lazy": false,
          "matrix": {
           "elements": [
            1,
            0,
            0,
            0,
            0,
            1,
            0,
            0,
            0,
            0,
            1,
            0,
            0,
            0,
            0,
            1
           ]
          },
          "metalness": 0,
          "opacity": 1,
          "quality": "medium",
          "roughness": 0.4,
          "side": "double",
          "useInteriorColor": false,
          "visible": true,
          "wireframe": false
         },
         "type": "buffer"
        }
       }
      },
      "_ngl_serialize": false,
      "_ngl_version": "2.0.0-dev.33",
      "_scene_position": {},
      "_scene_rotation": {},
      "_view_count": null,
      "_view_module": "nglview-js-widgets",
      "_view_module_version": "1.1.7",
      "_view_name": "NGLView",
      "background": "white",
      "count": 1,
      "frame": 0,
      "layout": "IPY_MODEL_405667c69eba434e924d4849826052aa",
      "n_components": 4,
      "picked": {}
     }
    }
   }
  }
 },
 "nbformat": 4,
 "nbformat_minor": 1
}
